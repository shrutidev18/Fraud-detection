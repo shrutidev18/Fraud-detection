{
  "nbformat": 4,
  "nbformat_minor": 0,
  "metadata": {
    "colab": {
      "provenance": []
    },
    "kernelspec": {
      "name": "python3",
      "display_name": "Python 3"
    },
    "language_info": {
      "name": "python"
    }
  },
  "cells": [
    {
      "cell_type": "code",
      "execution_count": null,
      "metadata": {
        "id": "U3VI2dCGK3bn"
      },
      "outputs": [],
      "source": [
        "#installing packages\n",
        "!pip -q install pandas numpy scikit-learn matplotlib seaborn umap-learn gradio\n",
        "\n",
        "import pandas as pd, numpy as np, matplotlib.pyplot as plt, seaborn as sns\n",
        "from sklearn.preprocessing import RobustScaler, StandardScaler\n",
        "from sklearn.metrics import average_precision_score\n",
        "from sklearn.ensemble import IsolationForest\n",
        "from sklearn.neighbors import LocalOutlierFactor\n",
        "from sklearn.decomposition import PCA\n",
        "np.random.seed(42)\n"
      ]
    },
    {
      "cell_type": "code",
      "source": [
        "from google.colab import drive\n",
        "drive.mount('/content/drive')\n",
        "df = pd.read_csv('/content/drive/MyDrive/Datasets/creditcard.csv')\n",
        "# Downsample for faster training\n",
        "df = df.sample(n=20000, random_state=42)"
      ],
      "metadata": {
        "colab": {
          "base_uri": "https://localhost:8080/"
        },
        "id": "taQB8-8Eg4Io",
        "outputId": "cef94d68-c50a-49e5-bb48-c474c7cb5748"
      },
      "execution_count": null,
      "outputs": [
        {
          "output_type": "stream",
          "name": "stdout",
          "text": [
            "Mounted at /content/drive\n"
          ]
        }
      ]
    },
    {
      "cell_type": "code",
      "source": [
        "#EDA = Exploring the dataset before modeling.\n",
        "\n",
        "# Shape of dataset\n",
        "print(\"Dataset shape:\", df.shape)\n",
        "# First 5 rows\n",
        "print(df.head())\n",
        "# Info about columns\n",
        "print(df.info())\n",
        "# Check missing values\n",
        "print(df.isnull().sum())\n",
        "# Class distribution (Fraud vs Non-Fraud)\n",
        "print(df['Class'].value_counts())\n",
        "# Percentage of fraud cases\n",
        "fraud_percentage = (df['Class'].value_counts()[1] / len(df)) * 100\n",
        "print(f\"Fraud cases percentage: {fraud_percentage:.4f}%\")\n",
        "\n",
        "# Class distribution plot\n",
        "sns.countplot(x='Class', data=df)\n",
        "plt.title(\"Fraud vs Non-Fraud Transaction Counts\")\n",
        "plt.show()\n",
        "\n",
        "# Transaction Amount distribution\n",
        "plt.figure(figsize=(6,4))\n",
        "sns.histplot(df['Amount'], bins=50, kde=True)\n",
        "plt.title(\"Distribution of Transaction Amounts\")\n",
        "plt.show()\n",
        "\n"
      ],
      "metadata": {
        "colab": {
          "base_uri": "https://localhost:8080/",
          "height": 1000
        },
        "id": "5CcrG1dcmByH",
        "outputId": "357feb4d-0ed6-4880-b11e-3705c8b29ea5"
      },
      "execution_count": null,
      "outputs": [
        {
          "output_type": "stream",
          "name": "stdout",
          "text": [
            "Dataset shape: (20000, 31)\n",
            "            Time         V1        V2         V3        V4         V5  \\\n",
            "43428    41505.0 -16.526507  8.584972 -18.649853  9.505594 -13.793819   \n",
            "49906    44261.0   0.339812 -2.743745  -0.134070 -1.385729  -1.451413   \n",
            "29474    35484.0   1.399590 -0.590701   0.168619 -1.029950  -0.539806   \n",
            "276481  167123.0  -0.432071  1.647895  -1.669361 -0.349504   0.785785   \n",
            "278846  168473.0   2.014160 -0.137394  -1.015839  0.327269  -0.182179   \n",
            "\n",
            "              V6         V7        V8        V9  ...       V21       V22  \\\n",
            "43428  -2.832404 -16.701694  7.517344 -8.507059  ...  1.190739 -1.127670   \n",
            "49906   1.015887  -0.524379  0.224060  0.899746  ... -0.213436 -0.942525   \n",
            "29474   0.040444  -0.712567  0.002299 -0.971747  ...  0.102398  0.168269   \n",
            "276481 -0.630647   0.276990  0.586025 -0.484715  ...  0.358932  0.873663   \n",
            "278846 -0.956571   0.043241 -0.160746  0.363241  ... -0.238644 -0.616400   \n",
            "\n",
            "             V23       V24       V25       V26       V27       V28  Amount  \\\n",
            "43428  -2.358579  0.673461 -1.413700 -0.462762 -2.018575 -1.042804  364.19   \n",
            "49906  -0.526819 -1.156992  0.311211 -0.746647  0.040996  0.102038  520.12   \n",
            "29474  -0.166639 -0.810250  0.505083 -0.232340  0.011409  0.004634   31.00   \n",
            "276481 -0.178642 -0.017171 -0.207392 -0.157756 -0.237386  0.001934    1.50   \n",
            "278846  0.347045  0.061561 -0.360196  0.174730 -0.078043 -0.070571    0.89   \n",
            "\n",
            "        Class  \n",
            "43428       1  \n",
            "49906       0  \n",
            "29474       0  \n",
            "276481      0  \n",
            "278846      0  \n",
            "\n",
            "[5 rows x 31 columns]\n",
            "<class 'pandas.core.frame.DataFrame'>\n",
            "Index: 20000 entries, 43428 to 12947\n",
            "Data columns (total 31 columns):\n",
            " #   Column  Non-Null Count  Dtype  \n",
            "---  ------  --------------  -----  \n",
            " 0   Time    20000 non-null  float64\n",
            " 1   V1      20000 non-null  float64\n",
            " 2   V2      20000 non-null  float64\n",
            " 3   V3      20000 non-null  float64\n",
            " 4   V4      20000 non-null  float64\n",
            " 5   V5      20000 non-null  float64\n",
            " 6   V6      20000 non-null  float64\n",
            " 7   V7      20000 non-null  float64\n",
            " 8   V8      20000 non-null  float64\n",
            " 9   V9      20000 non-null  float64\n",
            " 10  V10     20000 non-null  float64\n",
            " 11  V11     20000 non-null  float64\n",
            " 12  V12     20000 non-null  float64\n",
            " 13  V13     20000 non-null  float64\n",
            " 14  V14     20000 non-null  float64\n",
            " 15  V15     20000 non-null  float64\n",
            " 16  V16     20000 non-null  float64\n",
            " 17  V17     20000 non-null  float64\n",
            " 18  V18     20000 non-null  float64\n",
            " 19  V19     20000 non-null  float64\n",
            " 20  V20     20000 non-null  float64\n",
            " 21  V21     20000 non-null  float64\n",
            " 22  V22     20000 non-null  float64\n",
            " 23  V23     20000 non-null  float64\n",
            " 24  V24     20000 non-null  float64\n",
            " 25  V25     20000 non-null  float64\n",
            " 26  V26     20000 non-null  float64\n",
            " 27  V27     20000 non-null  float64\n",
            " 28  V28     20000 non-null  float64\n",
            " 29  Amount  20000 non-null  float64\n",
            " 30  Class   20000 non-null  int64  \n",
            "dtypes: float64(30), int64(1)\n",
            "memory usage: 4.9 MB\n",
            "None\n",
            "Time      0\n",
            "V1        0\n",
            "V2        0\n",
            "V3        0\n",
            "V4        0\n",
            "V5        0\n",
            "V6        0\n",
            "V7        0\n",
            "V8        0\n",
            "V9        0\n",
            "V10       0\n",
            "V11       0\n",
            "V12       0\n",
            "V13       0\n",
            "V14       0\n",
            "V15       0\n",
            "V16       0\n",
            "V17       0\n",
            "V18       0\n",
            "V19       0\n",
            "V20       0\n",
            "V21       0\n",
            "V22       0\n",
            "V23       0\n",
            "V24       0\n",
            "V25       0\n",
            "V26       0\n",
            "V27       0\n",
            "V28       0\n",
            "Amount    0\n",
            "Class     0\n",
            "dtype: int64\n",
            "Class\n",
            "0    19966\n",
            "1       34\n",
            "Name: count, dtype: int64\n",
            "Fraud cases percentage: 0.1700%\n"
          ]
        },
        {
          "output_type": "display_data",
          "data": {
            "text/plain": [
              "<Figure size 640x480 with 1 Axes>"
            ],
            "image/png": "[encoded data removed]"
          },
          "metadata": {}
        },
        {
          "output_type": "display_data",
          "data": {
            "text/plain": [
              "<Figure size 600x400 with 1 Axes>"
            ],
            "image/png": "[encoded data removed]"
          },
          "metadata": {}
        }
      ]
    },
    {
      "cell_type": "code",
      "source": [
        "# sort by time- To prevent data leakage, I performed a time-aware split of the dataset,\n",
        "# ensuring the model was trained only on past transactions and tested on future ones.\n",
        "df = df.sort_values('Time').reset_index(drop=True)\n",
        "split_idx = int(0.70 * len(df))\n",
        "train_df = df.iloc[:split_idx].copy()\n",
        "val_df   = df.iloc[split_idx:].copy()\n",
        "\n",
        "'''#This is for very large dataset- The dataset is highly imbalanced (fraud ≈ 0.17%).\n",
        "To avoid very long training and useless imbalance,you:Keep all fraud cases.Randomly sample\n",
        "only some normal transactions (20,000 for train, 10,000 for val).\n",
        "FAST mode sizes (tweak as you like)\n",
        "\n",
        "FAST_MODE = True\n",
        "N_NORMAL_TRAIN = 20000\n",
        "N_NORMAL_VAL   = 10000\n",
        "def make_fast(df_part):\n",
        "    fraud = df_part[df_part['Class'] == 1]\n",
        "    non_fraud = df_part[df_part['Class'] == 0]\n",
        "    target_n = N_NORMAL_TRAIN if df_part is train_df else N_NORMAL_VAL\n",
        "    if FAST_MODE:\n",
        "        non_fraud = non_fraud.sample(n=min(target_n, len(non_fraud)), random_state=42)\n",
        "    # keep all fraud + sampled normals\n",
        "    return pd.concat([fraud, non_fraud]).sample(frac=1, random_state=42).reset_index(drop=True)\n",
        "\n",
        "train_fast = make_fast(train_df)\n",
        "val_fast   = make_fast(val_df)\n",
        "\n",
        "print(train_fast['Class'].value_counts(), \"\\n---\\n\", val_fast['Class'].value_counts())'''"
      ],
      "metadata": {
        "colab": {
          "base_uri": "https://localhost:8080/",
          "height": 122
        },
        "id": "DVAgwrE8oT_i",
        "outputId": "82bf690b-955b-467a-9dfe-55d28103a373"
      },
      "execution_count": null,
      "outputs": [
        {
          "output_type": "execute_result",
          "data": {
            "text/plain": [
              "'#This is for very large dataset- The dataset is highly imbalanced (fraud ≈ 0.17%).\\nTo avoid very long training and useless imbalance,you:Keep all fraud cases.Randomly sample\\nonly some normal transactions (20,000 for train, 10,000 for val).\\nFAST mode sizes (tweak as you like)\\n\\nFAST_MODE = True\\nN_NORMAL_TRAIN = 20000\\nN_NORMAL_VAL   = 10000\\ndef make_fast(df_part):\\n    fraud = df_part[df_part[\\'Class\\'] == 1]\\n    non_fraud = df_part[df_part[\\'Class\\'] == 0]\\n    target_n = N_NORMAL_TRAIN if df_part is train_df else N_NORMAL_VAL\\n    if FAST_MODE:\\n        non_fraud = non_fraud.sample(n=min(target_n, len(non_fraud)), random_state=42)\\n    # keep all fraud + sampled normals\\n    return pd.concat([fraud, non_fraud]).sample(frac=1, random_state=42).reset_index(drop=True)\\n\\ntrain_fast = make_fast(train_df)\\nval_fast   = make_fast(val_df)\\n\\nprint(train_fast[\\'Class\\'].value_counts(), \"\\n---\\n\", val_fast[\\'Class\\'].value_counts())'"
            ],
            "application/vnd.google.colaboratory.intrinsic+json": {
              "type": "string"
            }
          },
          "metadata": {},
          "execution_count": 4
        }
      ]
    },
    {
      "cell_type": "code",
      "source": [
        "def build_features(df_):\n",
        "    X = df_.filter(regex=r'^V\\d+$').copy()   # V1..V28\n",
        "    # robust scale amount\n",
        "    amt = df_[['Amount']].copy()\n",
        "    hours = ((df_['Time']/3600) % 24).astype(int)\n",
        "    X['hour'] = hours\n",
        "    X['is_night'] = ((hours >= 0) & (hours <= 5)).astype(int)\n",
        "    return X, amt\n",
        "\n",
        "Xtr, atr = build_features(train_df)\n",
        "Xva, ava = build_features(val_df)\n",
        "\n",
        "amt_scaler = RobustScaler().fit(atr)          # train-only\n",
        "Xtr['Amount_scaled'] = amt_scaler.transform(atr)\n",
        "Xva['Amount_scaled'] = amt_scaler.transform(ava)\n",
        "\n",
        "y_val = val_df['Class'].values              # labels ONLY for evaluation\n",
        "Xtr.shape, Xva.shape\n"
      ],
      "metadata": {
        "colab": {
          "base_uri": "https://localhost:8080/"
        },
        "id": "Zbngr3s8UJmZ",
        "outputId": "f4119ab6-8aad-4522-b2a9-1bf8488f5fed"
      },
      "execution_count": null,
      "outputs": [
        {
          "output_type": "execute_result",
          "data": {
            "text/plain": [
              "((14000, 31), (6000, 31))"
            ]
          },
          "metadata": {},
          "execution_count": 5
        }
      ]
    },
    {
      "cell_type": "code",
      "source": [
        "#base line models\n",
        "#Simple rule baseline\n",
        "def rule_scores(df_):\n",
        "    hours = ((df_['Time']/3600) % 24).astype(int)\n",
        "    is_night = ((hours >= 0) & (hours <= 5)).astype(int)\n",
        "    amt = df_['Amount'].values\n",
        "    # high score if very large amount and at night\n",
        "    return (is_night * 1.0) + (amt / (np.percentile(amt, 99) + 1e-9))\n",
        "\n",
        "rule_s_val = rule_scores(val_df)\n",
        "\n",
        "#Isolation Forest (IF)          MAIN ALGORITHM\n",
        "iso = IsolationForest(n_estimators=300, max_samples='auto', n_jobs=-1, random_state=42)\n",
        "iso.fit(Xtr)\n",
        "iso_s_val = -iso.score_samples(Xva)  # invert\n",
        "\n",
        "#Local Outlier factor in novelty mode\n",
        "lof = LocalOutlierFactor(n_neighbors=35, novelty=True, n_jobs=-1)\n",
        "lof.fit(Xtr)\n",
        "lof_s_val = -lof.score_samples(Xva)  # invert\n"
      ],
      "metadata": {
        "colab": {
          "base_uri": "https://localhost:8080/"
        },
        "id": "Cy-0Aic2VSvD",
        "outputId": "5a38a955-a839-4852-bec1-9dcc0c030bd9"
      },
      "execution_count": null,
      "outputs": [
        {
          "output_type": "stream",
          "name": "stderr",
          "text": [
            "/usr/local/lib/python3.12/dist-packages/sklearn/utils/validation.py:2739: UserWarning: X does not have valid feature names, but LocalOutlierFactor was fitted with feature names\n",
            "  warnings.warn(\n"
          ]
        }
      ]
    },
    {
      "cell_type": "code",
      "source": [
        "#Evaluation that matches analyst workflows  We’ll use Precision@K, Recall@K, PR-AUC (Average Precision).\n",
        "from sklearn.metrics import precision_recall_curve\n",
        "\n",
        "def precision_at_k(y_true, scores, k=200):\n",
        "    idx = np.argsort(scores)[::-1][:k]\n",
        "    return float(y_true[idx].mean())\n",
        "\n",
        "def recall_at_k(y_true, scores, k=200):\n",
        "    idx = np.argsort(scores)[::-1][:k]\n",
        "    return float(y_true[idx].sum() / (y_true.sum() + 1e-9))\n",
        "\n",
        "def pr_auc(y_true, scores):\n",
        "    return float(average_precision_score(y_true, scores))\n",
        "\n",
        "def summarize(name, scores):\n",
        "    print(f\"{name:16s}  Prec@100={precision_at_k(y_val, scores, 100):.3f}  \"\n",
        "          f\"Prec@200={precision_at_k(y_val, scores, 200):.3f}  \"\n",
        "          f\"Recall@200={recall_at_k(y_val, scores, 200):.3f}  \"\n",
        "          f\"PR-AUC={pr_auc(y_val, scores):.3f}\")\n",
        "\n",
        "summarize(\"Rule\", rule_s_val)\n",
        "summarize(\"IsolationForest\", iso_s_val)\n",
        "summarize(\"LOF\", lof_s_val)\n"
      ],
      "metadata": {
        "colab": {
          "base_uri": "https://localhost:8080/"
        },
        "id": "FwNHS3AWY08V",
        "outputId": "187187f1-7253-4d09-9f14-efd7d1efadbf"
      },
      "execution_count": null,
      "outputs": [
        {
          "output_type": "stream",
          "name": "stdout",
          "text": [
            "Rule              Prec@100=0.010  Prec@200=0.010  Recall@200=0.200  PR-AUC=0.005\n",
            "IsolationForest   Prec@100=0.040  Prec@200=0.030  Recall@200=0.600  PR-AUC=0.033\n",
            "LOF               Prec@100=0.060  Prec@200=0.035  Recall@200=0.700  PR-AUC=0.311\n"
          ]
        }
      ]
    },
    {
      "cell_type": "code",
      "source": [
        "def rank_ensemble(*scores_list):\n",
        "    ranks = np.vstack([np.argsort(np.argsort(-s)) for s in scores_list])  # lower rank = more anomalous\n",
        "    return -ranks.mean(axis=0)\n",
        "\n",
        "ens_s_val = rank_ensemble(iso_s_val, lof_s_val)\n",
        "summarize(\"Ensemble\", ens_s_val)\n"
      ],
      "metadata": {
        "colab": {
          "base_uri": "https://localhost:8080/"
        },
        "id": "vWZrlAXqVcHP",
        "outputId": "e4e63a0f-4c4c-4624-c713-bac914609bdf"
      },
      "execution_count": null,
      "outputs": [
        {
          "output_type": "stream",
          "name": "stdout",
          "text": [
            "Ensemble          Prec@100=0.070  Prec@200=0.035  Recall@200=0.700  PR-AUC=0.086\n"
          ]
        }
      ]
    },
    {
      "cell_type": "markdown",
      "source": [
        "VISUALS:"
      ],
      "metadata": {
        "id": "kPboZ6k-cN-e"
      }
    },
    {
      "cell_type": "code",
      "source": [
        "#Precision@K curve\n",
        "def prec_curve(y_true, scores, ks=(50,100,200,300,500,800,1000)):\n",
        "    return ks, [precision_at_k(y_true, scores, k) for k in ks]\n",
        "\n",
        "plt.figure()\n",
        "for name, s in {\"IF\": iso_s_val, \"LOF\": lof_s_val, \"Ens\": ens_s_val}.items():\n",
        "    ks, precs = prec_curve(y_val, s)\n",
        "    plt.plot(ks, precs, label=name)\n",
        "plt.xlabel(\"K (Top alerts)\"); plt.ylabel(\"Precision@K\"); plt.title(\"Precision@K Comparison\"); plt.legend(); plt.show()\n"
      ],
      "metadata": {
        "id": "32-zHSlXcAmz",
        "colab": {
          "base_uri": "https://localhost:8080/",
          "height": 472
        },
        "outputId": "8739e8cc-b5e8-45f7-c9ec-aee1a503a520"
      },
      "execution_count": null,
      "outputs": [
        {
          "output_type": "display_data",
          "data": {
            "text/plain": [
              "<Figure size 640x480 with 1 Axes>"
            ],
            "image/png": "[encoded data removed]"
          },
          "metadata": {}
        }
      ]
    },
    {
      "cell_type": "code",
      "source": [
        "#2D scatter (PCA) highlighting top anomalies\n",
        "pca = PCA(n_components=2, random_state=42)\n",
        "XY = pca.fit_transform(Xva)\n",
        "top_idx = np.argsort(ens_s_val if 'ens_s_val' in globals() else iso_s_val)[::-1][:300]\n",
        "plt.figure(figsize=(6,5))\n",
        "plt.scatter(XY[:,0], XY[:,1], s=5, alpha=0.15, label=\"All\")\n",
        "plt.scatter(XY[top_idx,0], XY[top_idx,1], s=7, alpha=0.9, label=\"Top anomalies\")\n",
        "plt.title(\"PCA view of validation set\"); plt.legend(); plt.show()"
      ],
      "metadata": {
        "id": "XvASaL0McQMp",
        "colab": {
          "base_uri": "https://localhost:8080/",
          "height": 468
        },
        "outputId": "8d37f8b2-4731-40ef-8682-4eb48c3c5465"
      },
      "execution_count": null,
      "outputs": [
        {
          "output_type": "display_data",
          "data": {
            "text/plain": [
              "<Figure size 600x500 with 1 Axes>"
            ],
            "image/png": "[encoded data removed]"
          },
          "metadata": {}
        }
      ]
    },
    {
      "cell_type": "code",
      "source": [
        "#top k suspicious tranaction\n",
        "def topk_table(df_part, scores, k=200):\n",
        "    idx = np.argsort(scores)[::-1][:k]\n",
        "    out = df_part.iloc[idx][['Time','Amount','Class']].copy()\n",
        "    out.insert(0, \"rank\", np.arange(1, len(idx)+1))\n",
        "    out['anomaly_score'] = np.round(scores[idx], 6)\n",
        "    return out\n",
        "\n",
        "top200 = topk_table(val_df, ens_s_val if 'ens_s_val' in globals() else iso_s_val, 200)\n",
        "top200.head()"
      ],
      "metadata": {
        "colab": {
          "base_uri": "https://localhost:8080/",
          "height": 206
        },
        "id": "xc9xyvST5KqE",
        "outputId": "58b5a475-d5a1-4822-89ba-86f5522374fa"
      },
      "execution_count": null,
      "outputs": [
        {
          "output_type": "execute_result",
          "data": {
            "text/plain": [
              "       rank      Time   Amount  Class  anomaly_score\n",
              "16141     1  145773.0  1210.00      0           -2.5\n",
              "14240     2  134033.0  1402.38      0           -3.0\n",
              "14248     3  134070.0   660.38      0           -4.0\n",
              "16659     4  148806.0   152.00      0           -4.0\n",
              "15484     5  141655.0  3502.11      0           -5.0"
            ],
            "text/html": [
              "\n",
              "  <div id=\"df-9d3751cd-dead-4a60-94fa-52743f2781fd\" class=\"colab-df-container\">\n",
              "    <div>\n",
              "<style scoped>\n",
              "    .dataframe tbody tr th:only-of-type {\n",
              "        vertical-align: middle;\n",
              "    }\n",
              "\n",
              "    .dataframe tbody tr th {\n",
              "        vertical-align: top;\n",
              "    }\n",
              "\n",
              "    .dataframe thead th {\n",
              "        text-align: right;\n",
              "    }\n",
              "</style>\n",
              "<table border=\"1\" class=\"dataframe\">\n",
              "  <thead>\n",
              "    <tr style=\"text-align: right;\">\n",
              "      <th></th>\n",
              "      <th>rank</th>\n",
              "      <th>Time</th>\n",
              "      <th>Amount</th>\n",
              "      <th>Class</th>\n",
              "      <th>anomaly_score</th>\n",
              "    </tr>\n",
              "  </thead>\n",
              "  <tbody>\n",
              "    <tr>\n",
              "      <th>16141</th>\n",
              "      <td>1</td>\n",
              "      <td>145773.0</td>\n",
              "      <td>1210.00</td>\n",
              "      <td>0</td>\n",
              "      <td>-2.5</td>\n",
              "    </tr>\n",
              "    <tr>\n",
              "      <th>14240</th>\n",
              "      <td>2</td>\n",
              "      <td>134033.0</td>\n",
              "      <td>1402.38</td>\n",
              "      <td>0</td>\n",
              "      <td>-3.0</td>\n",
              "    </tr>\n",
              "    <tr>\n",
              "      <th>14248</th>\n",
              "      <td>3</td>\n",
              "      <td>134070.0</td>\n",
              "      <td>660.38</td>\n",
              "      <td>0</td>\n",
              "      <td>-4.0</td>\n",
              "    </tr>\n",
              "    <tr>\n",
              "      <th>16659</th>\n",
              "      <td>4</td>\n",
              "      <td>148806.0</td>\n",
              "      <td>152.00</td>\n",
              "      <td>0</td>\n",
              "      <td>-4.0</td>\n",
              "    </tr>\n",
              "    <tr>\n",
              "      <th>15484</th>\n",
              "      <td>5</td>\n",
              "      <td>141655.0</td>\n",
              "      <td>3502.11</td>\n",
              "      <td>0</td>\n",
              "      <td>-5.0</td>\n",
              "    </tr>\n",
              "  </tbody>\n",
              "</table>\n",
              "</div>\n",
              "    <div class=\"colab-df-buttons\">\n",
              "\n",
              "  <div class=\"colab-df-container\">\n",
              "    <button class=\"colab-df-convert\" onclick=\"convertToInteractive('df-9d3751cd-dead-4a60-94fa-52743f2781fd')\"\n",
              "            title=\"Convert this dataframe to an interactive table.\"\n",
              "            style=\"display:none;\">\n",
              "\n",
              "  <svg xmlns=\"http://www.w3.org/2000/svg\" height=\"24px\" viewBox=\"0 -960 960 960\">\n",
              "    <path d=\"M120-120v-720h720v720H120Zm60-500h600v-160H180v160Zm220 220h160v-160H400v160Zm0 220h160v-160H400v160ZM180-400h160v-160H180v160Zm440 0h160v-160H620v160ZM180-180h160v-160H180v160Zm440 0h160v-160H620v160Z\"/>\n",
              "  </svg>\n",
              "    </button>\n",
              "\n",
              "  <style>\n",
              "    .colab-df-container {\n",
              "      display:flex;\n",
              "      gap: 12px;\n",
              "    }\n",
              "\n",
              "    .colab-df-convert {\n",
              "      background-color: #E8F0FE;\n",
              "      border: none;\n",
              "      border-radius: 50%;\n",
              "      cursor: pointer;\n",
              "      display: none;\n",
              "      fill: #1967D2;\n",
              "      height: 32px;\n",
              "      padding: 0 0 0 0;\n",
              "      width: 32px;\n",
              "    }\n",
              "\n",
              "    .colab-df-convert:hover {\n",
              "      background-color: #E2EBFA;\n",
              "      box-shadow: 0px 1px 2px rgba(60, 64, 67, 0.3), 0px 1px 3px 1px rgba(60, 64, 67, 0.15);\n",
              "      fill: #174EA6;\n",
              "    }\n",
              "\n",
              "    .colab-df-buttons div {\n",
              "      margin-bottom: 4px;\n",
              "    }\n",
              "\n",
              "    [theme=dark] .colab-df-convert {\n",
              "      background-color: #3B4455;\n",
              "      fill: #D2E3FC;\n",
              "    }\n",
              "\n",
              "    [theme=dark] .colab-df-convert:hover {\n",
              "      background-color: #434B5C;\n",
              "      box-shadow: 0px 1px 3px 1px rgba(0, 0, 0, 0.15);\n",
              "      filter: drop-shadow(0px 1px 2px rgba(0, 0, 0, 0.3));\n",
              "      fill: #FFFFFF;\n",
              "    }\n",
              "  </style>\n",
              "\n",
              "    <script>\n",
              "      const buttonEl =\n",
              "        document.querySelector('#df-9d3751cd-dead-4a60-94fa-52743f2781fd button.colab-df-convert');\n",
              "      buttonEl.style.display =\n",
              "        google.colab.kernel.accessAllowed ? 'block' : 'none';\n",
              "\n",
              "      async function convertToInteractive(key) {\n",
              "        const element = document.querySelector('#df-9d3751cd-dead-4a60-94fa-52743f2781fd');\n",
              "        const dataTable =\n",
              "          await google.colab.kernel.invokeFunction('convertToInteractive',\n",
              "                                                    [key], {});\n",
              "        if (!dataTable) return;\n",
              "\n",
              "        const docLinkHtml = 'Like what you see? Visit the ' +\n",
              "          '<a target=\"_blank\" href=https://colab.research.google.com/notebooks/data_table.ipynb>data table notebook</a>'\n",
              "          + ' to learn more about interactive tables.';\n",
              "        element.innerHTML = '';\n",
              "        dataTable['output_type'] = 'display_data';\n",
              "        await google.colab.output.renderOutput(dataTable, element);\n",
              "        const docLink = document.createElement('div');\n",
              "        docLink.innerHTML = docLinkHtml;\n",
              "        element.appendChild(docLink);\n",
              "      }\n",
              "    </script>\n",
              "  </div>\n",
              "\n",
              "\n",
              "    <div id=\"df-79cfb42d-ad27-40a4-b0f0-88d751af7a3c\">\n",
              "      <button class=\"colab-df-quickchart\" onclick=\"quickchart('df-79cfb42d-ad27-40a4-b0f0-88d751af7a3c')\"\n",
              "                title=\"Suggest charts\"\n",
              "                style=\"display:none;\">\n",
              "\n",
              "<svg xmlns=\"http://www.w3.org/2000/svg\" height=\"24px\"viewBox=\"0 0 24 24\"\n",
              "     width=\"24px\">\n",
              "    <g>\n",
              "        <path d=\"M19 3H5c-1.1 0-2 .9-2 2v14c0 1.1.9 2 2 2h14c1.1 0 2-.9 2-2V5c0-1.1-.9-2-2-2zM9 17H7v-7h2v7zm4 0h-2V7h2v10zm4 0h-2v-4h2v4z\"/>\n",
              "    </g>\n",
              "</svg>\n",
              "      </button>\n",
              "\n",
              "<style>\n",
              "  .colab-df-quickchart {\n",
              "      --bg-color: #E8F0FE;\n",
              "      --fill-color: #1967D2;\n",
              "      --hover-bg-color: #E2EBFA;\n",
              "      --hover-fill-color: #174EA6;\n",
              "      --disabled-fill-color: #AAA;\n",
              "      --disabled-bg-color: #DDD;\n",
              "  }\n",
              "\n",
              "  [theme=dark] .colab-df-quickchart {\n",
              "      --bg-color: #3B4455;\n",
              "      --fill-color: #D2E3FC;\n",
              "      --hover-bg-color: #434B5C;\n",
              "      --hover-fill-color: #FFFFFF;\n",
              "      --disabled-bg-color: #3B4455;\n",
              "      --disabled-fill-color: #666;\n",
              "  }\n",
              "\n",
              "  .colab-df-quickchart {\n",
              "    background-color: var(--bg-color);\n",
              "    border: none;\n",
              "    border-radius: 50%;\n",
              "    cursor: pointer;\n",
              "    display: none;\n",
              "    fill: var(--fill-color);\n",
              "    height: 32px;\n",
              "    padding: 0;\n",
              "    width: 32px;\n",
              "  }\n",
              "\n",
              "  .colab-df-quickchart:hover {\n",
              "    background-color: var(--hover-bg-color);\n",
              "    box-shadow: 0 1px 2px rgba(60, 64, 67, 0.3), 0 1px 3px 1px rgba(60, 64, 67, 0.15);\n",
              "    fill: var(--button-hover-fill-color);\n",
              "  }\n",
              "\n",
              "  .colab-df-quickchart-complete:disabled,\n",
              "  .colab-df-quickchart-complete:disabled:hover {\n",
              "    background-color: var(--disabled-bg-color);\n",
              "    fill: var(--disabled-fill-color);\n",
              "    box-shadow: none;\n",
              "  }\n",
              "\n",
              "  .colab-df-spinner {\n",
              "    border: 2px solid var(--fill-color);\n",
              "    border-color: transparent;\n",
              "    border-bottom-color: var(--fill-color);\n",
              "    animation:\n",
              "      spin 1s steps(1) infinite;\n",
              "  }\n",
              "\n",
              "  @keyframes spin {\n",
              "    0% {\n",
              "      border-color: transparent;\n",
              "      border-bottom-color: var(--fill-color);\n",
              "      border-left-color: var(--fill-color);\n",
              "    }\n",
              "    20% {\n",
              "      border-color: transparent;\n",
              "      border-left-color: var(--fill-color);\n",
              "      border-top-color: var(--fill-color);\n",
              "    }\n",
              "    30% {\n",
              "      border-color: transparent;\n",
              "      border-left-color: var(--fill-color);\n",
              "      border-top-color: var(--fill-color);\n",
              "      border-right-color: var(--fill-color);\n",
              "    }\n",
              "    40% {\n",
              "      border-color: transparent;\n",
              "      border-right-color: var(--fill-color);\n",
              "      border-top-color: var(--fill-color);\n",
              "    }\n",
              "    60% {\n",
              "      border-color: transparent;\n",
              "      border-right-color: var(--fill-color);\n",
              "    }\n",
              "    80% {\n",
              "      border-color: transparent;\n",
              "      border-right-color: var(--fill-color);\n",
              "      border-bottom-color: var(--fill-color);\n",
              "    }\n",
              "    90% {\n",
              "      border-color: transparent;\n",
              "      border-bottom-color: var(--fill-color);\n",
              "    }\n",
              "  }\n",
              "</style>\n",
              "\n",
              "      <script>\n",
              "        async function quickchart(key) {\n",
              "          const quickchartButtonEl =\n",
              "            document.querySelector('#' + key + ' button');\n",
              "          quickchartButtonEl.disabled = true;  // To prevent multiple clicks.\n",
              "          quickchartButtonEl.classList.add('colab-df-spinner');\n",
              "          try {\n",
              "            const charts = await google.colab.kernel.invokeFunction(\n",
              "                'suggestCharts', [key], {});\n",
              "          } catch (error) {\n",
              "            console.error('Error during call to suggestCharts:', error);\n",
              "          }\n",
              "          quickchartButtonEl.classList.remove('colab-df-spinner');\n",
              "          quickchartButtonEl.classList.add('colab-df-quickchart-complete');\n",
              "        }\n",
              "        (() => {\n",
              "          let quickchartButtonEl =\n",
              "            document.querySelector('#df-79cfb42d-ad27-40a4-b0f0-88d751af7a3c button');\n",
              "          quickchartButtonEl.style.display =\n",
              "            google.colab.kernel.accessAllowed ? 'block' : 'none';\n",
              "        })();\n",
              "      </script>\n",
              "    </div>\n",
              "\n",
              "    </div>\n",
              "  </div>\n"
            ],
            "application/vnd.google.colaboratory.intrinsic+json": {
              "type": "dataframe",
              "variable_name": "top200",
              "summary": "{\n  \"name\": \"top200\",\n  \"rows\": 200,\n  \"fields\": [\n    {\n      \"column\": \"rank\",\n      \"properties\": {\n        \"dtype\": \"number\",\n        \"std\": 57,\n        \"min\": 1,\n        \"max\": 200,\n        \"num_unique_values\": 200,\n        \"samples\": [\n          96,\n          16,\n          31\n        ],\n        \"semantic_type\": \"\",\n        \"description\": \"\"\n      }\n    },\n    {\n      \"column\": \"Time\",\n      \"properties\": {\n        \"dtype\": \"number\",\n        \"std\": 11495.771474238456,\n        \"min\": 133280.0,\n        \"max\": 172778.0,\n        \"num_unique_values\": 200,\n        \"samples\": [\n          147386.0,\n          140930.0,\n          136222.0\n        ],\n        \"semantic_type\": \"\",\n        \"description\": \"\"\n      }\n    },\n    {\n      \"column\": \"Amount\",\n      \"properties\": {\n        \"dtype\": \"number\",\n        \"std\": 550.0422309978417,\n        \"min\": 0.0,\n        \"max\": 3502.13,\n        \"num_unique_values\": 170,\n        \"samples\": [\n          4.0,\n          653.92,\n          98.52\n        ],\n        \"semantic_type\": \"\",\n        \"description\": \"\"\n      }\n    },\n    {\n      \"column\": \"Class\",\n      \"properties\": {\n        \"dtype\": \"number\",\n        \"std\": 0,\n        \"min\": 0,\n        \"max\": 1,\n        \"num_unique_values\": 2,\n        \"samples\": [\n          1,\n          0\n        ],\n        \"semantic_type\": \"\",\n        \"description\": \"\"\n      }\n    },\n    {\n      \"column\": \"anomaly_score\",\n      \"properties\": {\n        \"dtype\": \"number\",\n        \"std\": 140.9358525987575,\n        \"min\": -452.5,\n        \"max\": -2.5,\n        \"num_unique_values\": 180,\n        \"samples\": [\n          -45.0,\n          -125.5\n        ],\n        \"semantic_type\": \"\",\n        \"description\": \"\"\n      }\n    }\n  ]\n}"
            }
          },
          "metadata": {},
          "execution_count": 11
        }
      ]
    },
    {
      "cell_type": "markdown",
      "source": [
        "Deployed"
      ],
      "metadata": {
        "id": "8pj9Tm3K7Gd_"
      }
    },
    {
      "cell_type": "code",
      "source": [
        "import gradio as gr\n",
        "\n",
        "SCORES = {\n",
        "    \"IsolationForest\": iso_s_val,\n",
        "    **({\"Ensemble\": ens_s_val} if 'ens_s_val' in globals() else {})\n",
        "}\n",
        "\n",
        "def show_topk(model_name, k):\n",
        "    s = SCORES[model_name]\n",
        "    return topk_table(val_df, s, int(k))\n",
        "\n",
        "demo = gr.Interface(\n",
        "    fn=show_topk,\n",
        "    inputs=[gr.Dropdown(list(SCORES.keys()), value=list(SCORES.keys())[0], label=\"Model\"),\n",
        "            gr.Slider(50, 1000, step=50, value=200, label=\"Top-K Alerts\")],\n",
        "    outputs=gr.Dataframe(),\n",
        "    title=\"Unsupervised Fraud Alerts (Validation Set)\",\n",
        "    description=\"Ranked suspicious transactions (no labels used in training).\"\n",
        ")\n",
        "demo.launch(share=False)\n"
      ],
      "metadata": {
        "colab": {
          "base_uri": "https://localhost:8080/",
          "height": 599
        },
        "id": "FkLc6XYr7GE6",
        "outputId": "07ea5172-1ed0-45df-a6ee-aa4b25be4356"
      },
      "execution_count": null,
      "outputs": [
        {
          "output_type": "stream",
          "name": "stdout",
          "text": [
            "Colab notebook detected. To show errors in colab notebook, set debug=True in launch()\n",
            "Note: opening Chrome Inspector may crash demo inside Colab notebooks.\n",
            "* To create a public link, set `share=True` in `launch()`.\n"
          ]
        },
        {
          "output_type": "display_data",
          "data": {
            "text/plain": [
              "<IPython.core.display.Javascript object>"
            ],
            "application/javascript": [
              "(async (port, path, width, height, cache, element) => {\n",
              "                        if (!google.colab.kernel.accessAllowed && !cache) {\n",
              "                            return;\n",
              "                        }\n",
              "                        element.appendChild(document.createTextNode(''));\n",
              "                        const url = await google.colab.kernel.proxyPort(port, {cache});\n",
              "\n",
              "                        const external_link = document.createElement('div');\n",
              "                        external_link.innerHTML = `\n",
              "                            <div style=\"font-family: monospace; margin-bottom: 0.5rem\">\n",
              "                                Running on <a href=${new URL(path, url).toString()} target=\"_blank\">\n",
              "                                    https://localhost:${port}${path}\n",
              "                                </a>\n",
              "                            </div>\n",
              "                        `;\n",
              "                        element.appendChild(external_link);\n",
              "\n",
              "                        const iframe = document.createElement('iframe');\n",
              "                        iframe.src = new URL(path, url).toString();\n",
              "                        iframe.height = height;\n",
              "                        iframe.allow = \"autoplay; camera; microphone; clipboard-read; clipboard-write;\"\n",
              "                        iframe.width = width;\n",
              "                        iframe.style.border = 0;\n",
              "                        element.appendChild(iframe);\n",
              "                    })(7860, \"/\", \"100%\", 500, false, window.element)"
            ]
          },
          "metadata": {}
        },
        {
          "output_type": "execute_result",
          "data": {
            "text/plain": []
          },
          "metadata": {},
          "execution_count": 12
        }
      ]
    }
  ]
}